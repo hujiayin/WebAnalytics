{
 "cells": [
  {
   "cell_type": "markdown",
   "metadata": {},
   "source": [
    "# Crawling Rotten Tomatoes reviews"
   ]
  },
  {
   "cell_type": "markdown",
   "metadata": {},
   "source": [
    "Rotten Tomatoes is a review website for movies and TV shows. Different other film review websites, like IMDb, the scores of Rotten Tomatoes (whether the tomato🍅 is fresh or rotten) is aggregated from external reviews by critics, instead of common audiences. While, this website also provides audiences' reviews and scores, represented by a popcorn icon🍿.\n",
    "\n",
    "In this assignment, we only focus on reviews from critics."
   ]
  },
  {
   "cell_type": "markdown",
   "metadata": {},
   "source": [
    "Take the movie \"GANGS OF NEW YORK\" for example.\n",
    "The url of the review page is https://rottentomatoes.com/m/gangs_of_new_york/reviews?page=1"
   ]
  },
  {
   "cell_type": "markdown",
   "metadata": {},
   "source": [
    "![](https://github.com/hujiayin/WebAnalytics/blob/master/Web%20Content/RottenTomatoesWebsiteNew.png?raw=true)"
   ]
  },
  {
   "cell_type": "markdown",
   "metadata": {},
   "source": [
    "What we want to crawl is the information related to reviews from critics. The five following fields are the target!"
   ]
  },
  {
   "cell_type": "markdown",
   "metadata": {},
   "source": [
    "1. The name of the critic \n",
    "2. The rating. The rating should be 'rotten' ,  'fresh', or 'NA' if the review doesn't have a rating.\n",
    "3. The source of the review (e.g 'New York Times). This should be 'NA' if the review doesn't have a source.\n",
    "4. The text of the review. This  should be 'NA' if the review doesn't have text.\n",
    "5. The date of the review. This should be  'NA' if the review doesn't have a date.\n"
   ]
  },
  {
   "cell_type": "markdown",
   "metadata": {},
   "source": [
    "For a single review, it was writtern in tag `<div class: \"row review_table_row\">` and `</div>`"
   ]
  },
  {
   "cell_type": "markdown",
   "metadata": {},
   "source": [
    "![](https://github.com/hujiayin/WebAnalytics/blob/master/Web%20Content/RottenTomatoesHtml1.png?raw=true)"
   ]
  },
  {
   "cell_type": "markdown",
   "metadata": {},
   "source": [
    "Name of the critic: \n",
    "\n",
    "`<a href=\"/critic/joshua-brown\" class=\"unstyled bold articleLink\">Joshua Brown</a>`\n",
    "\n",
    "Rating: \n",
    "\n",
    "`<div class=\"review_icon icon small rotten\">`\n",
    "\n",
    "Source of the review: \n",
    "\n",
    "`<em class=\"subtle critic-publication\">London Review of Books</em>`\n",
    "\n",
    "Text of the review: \n",
    "\n",
    "`<div class=\"the_review\">\n",
    "                                    Gangs of New York is to Fernando Wood's Manhattan what Fellini's Satyricon is to Nero's Rome, with a touch of Monty Python filth on the faces and clothes.\n",
    "                                </div>`\n",
    "                                \n",
    "Date: \n",
    "\n",
    "`<div class=\"review-date subtle small\">\n",
    "                                June 27, 2019\n",
    "                            </div>`\n"
   ]
  },
  {
   "cell_type": "markdown",
   "metadata": {},
   "source": [
    "Except getting tags of every review, we need to notice that some of the fields may be None. This not only includes the situation that there is no tag for the field, but also the string we get maybe empty, albeit the tag exists."
   ]
  },
  {
   "cell_type": "code",
   "execution_count": 1,
   "metadata": {},
   "outputs": [],
   "source": [
    "import requests\n",
    "import re\n",
    "import time\n",
    "from bs4 import BeautifulSoup"
   ]
  },
  {
   "cell_type": "code",
   "execution_count": 2,
   "metadata": {},
   "outputs": [],
   "source": [
    "# get html for a single page\n",
    "def get_html(url): \n",
    "    my_header = {'User Agent': 'Mozilla/5.0 (Macintosh; Intel Mac OS X 10_15_0) AppleWebKit/537.36 (KHTML, like Gecko) Chrome/77.0.3865.120 Safari/537.36'}\n",
    "    \n",
    "    src = False\n",
    "    \n",
    "    # try 3 times to get the page\n",
    "    for i in range(3): \n",
    "        try:\n",
    "            response = requests.get(url, headers = my_header)\n",
    "            src = response.content\n",
    "            break\n",
    "        except:\n",
    "            time.sleep(2)\n",
    "    return src"
   ]
  },
  {
   "cell_type": "code",
   "execution_count": 3,
   "metadata": {},
   "outputs": [],
   "source": [
    "review_data = []\n",
    "movie = 'gangs_of_new_york'\n",
    "page_num = 3\n",
    "\n",
    "for i in range(page_num):\n",
    "    url = 'https://rottentomatoes.com/m/' + movie + '/reviews?page=' + str(i+1)\n",
    "    \n",
    "    html = get_html(url)\n",
    "    \n",
    "    if not html:\n",
    "        print('Failed get ' + movie + ' page ' + str(i+1))\n",
    "        \n",
    "    else:\n",
    "        soup = BeautifulSoup(html.decode('ascii', 'ignore'), 'lxml')\n",
    "        review_info = soup.findAll('div', {'class':'row review_table_row'})\n",
    "\n",
    "        for review in review_info:\n",
    "\n",
    "            '''\n",
    "            If the tag for any field is not found in html or the content is empty, \n",
    "            set default value NA for the field.\n",
    "            '''\n",
    "\n",
    "            # Find critic's name\n",
    "            name_find = review.find('a', {'href': re.compile('critic')})\n",
    "            name = name_find.text.strip() if name_find else 'NA'\n",
    "            name = name if name != '' else 'NA'\n",
    "\n",
    "            # Find rating\n",
    "            rating_find = review.find('div', {'class': re.compile('review_icon')})\n",
    "            rating = rating_find.attrs['class'][-1].strip() if rating_find else 'NA'\n",
    "            rating = rating if rating != '' else 'NA'\n",
    "\n",
    "            # Find source\n",
    "            source_find = review.find('em', {'class': re.compile('critic-publication')})\n",
    "            source = source_find.text.strip() if source_find else 'NA'\n",
    "            source = source if source != '' else 'NA'\n",
    "\n",
    "            # Find review content\n",
    "            review_text_find = review.find('div', {'class': 'the_review'})\n",
    "            review_text = review_text_find.text.strip() if review_text_find else 'NA'\n",
    "            review_text = review_text if review_text != '' else 'NA'\n",
    "\n",
    "            # Find review date\n",
    "            date_find = review.find('div', {'class': re.compile('review-date')})\n",
    "            date = date_find.text.strip() if date_find else 'NA'\n",
    "            date = date if date != '' else 'NA'\n",
    "\n",
    "            # Append into review_data\n",
    "            review_data.append([name, rating, source, review_text, date])\n",
    "\n",
    "# Write the reviews into a .txt file\n",
    "with open(movie + '_' + str(page_num) + 'pages_reviews.txt', mode='w', encoding='utf-8') as file:\n",
    "    for review in review_data:\n",
    "        file.write(review[0] + '\\t' + review[1] + '\\t' + review[2] + '\\t' + review[3] + '\\t' + review[4] + '\\n')"
   ]
  },
  {
   "cell_type": "markdown",
   "metadata": {},
   "source": [
    "The final result we get is a list containing the five fields of every review."
   ]
  },
  {
   "cell_type": "code",
   "execution_count": 4,
   "metadata": {
    "scrolled": true
   },
   "outputs": [
    {
     "data": {
      "text/plain": [
       "['Joshua Brown',\n",
       " 'rotten',\n",
       " 'London Review of Books',\n",
       " \"Gangs of New York is to Fernando Wood's Manhattan what Fellini's Satyricon is to Nero's Rome, with a touch of Monty Python filth on the faces and clothes.\",\n",
       " 'June 27, 2019']"
      ]
     },
     "execution_count": 4,
     "metadata": {},
     "output_type": "execute_result"
    }
   ],
   "source": [
    "review_data[0]"
   ]
  }
 ],
 "metadata": {
  "kernelspec": {
   "display_name": "Python 3",
   "language": "python",
   "name": "python3"
  },
  "language_info": {
   "codemirror_mode": {
    "name": "ipython",
    "version": 3
   },
   "file_extension": ".py",
   "mimetype": "text/x-python",
   "name": "python",
   "nbconvert_exporter": "python",
   "pygments_lexer": "ipython3",
   "version": "3.7.4"
  }
 },
 "nbformat": 4,
 "nbformat_minor": 2
}
